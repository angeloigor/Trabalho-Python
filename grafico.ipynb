{
 "cells": [
  {
   "cell_type": "code",
   "execution_count": 45,
   "metadata": {},
   "outputs": [],
   "source": [
    "import pandas as pd\n",
    "import matplotlib.pyplot as plt\n",
    "from fpdf import FPDF\n",
    "import os"
   ]
  },
  {
   "cell_type": "code",
   "execution_count": 46,
   "metadata": {},
   "outputs": [],
   "source": [
    "# Carregar o arquivo CSV\n",
    "df = pd.read_csv('ProuniRelatorioDadosAbertos2020.csv', sep=';', encoding='latin-1')"
   ]
  },
  {
   "cell_type": "code",
   "execution_count": 47,
   "metadata": {},
   "outputs": [],
   "source": [
    "# Função para salvar gráficos em um arquivo temporário\n",
    "def save_plot_to_file(filename):\n",
    "    plt.savefig(filename, format='png')\n",
    "    plt.close()\n",
    "\n",
    "# Função para adicionar gráficos ao PDF\n",
    "def add_image_to_pdf(pdf, filename):\n",
    "    pdf.image(filename, x=10, y=None, w=pdf.w - 20)  # Ajuste o tamanho e a posição conforme necessário\n",
    "    pdf.ln(10)  # Adiciona uma nova linha após a imagem\n",
    "    os.remove(filename)  # Remove o arquivo temporário após adicionar ao PDF"
   ]
  },
  {
   "cell_type": "code",
   "execution_count": 48,
   "metadata": {},
   "outputs": [],
   "source": [
    "# Função para gráfico de pizza\n",
    "def plot_pie_chart(data, title):\n",
    "    data.plot(kind='pie', autopct='%1.1f%%', startangle=90, cmap='tab20c')\n",
    "    plt.title(title)\n",
    "    plt.ylabel('') \n",
    "    plt.tight_layout()\n",
    "\n",
    "# Função para gráfico de barras\n",
    "def plot_bar_chart(data, x_label, title):\n",
    "    ax = data.plot(kind='bar', color='skyblue')\n",
    "    ax.set_xlabel(x_label)\n",
    "    ax.set_ylabel('Quantidade')\n",
    "    ax.set_title(title)\n",
    "    plt.xticks(rotation=45)\n",
    "    plt.tight_layout()"
   ]
  },
  {
   "cell_type": "code",
   "execution_count": 49,
   "metadata": {},
   "outputs": [],
   "source": [
    "# Analisa os dados para os gráficos\n",
    "top_10_municipios = df['MUNICIPIO'].value_counts().head(10)\n",
    "tipo_bolsa = df['TIPO_BOLSA'].value_counts()\n",
    "top_10_cursos = df['NOME_CURSO_BOLSA'].value_counts().head(10)\n",
    "sexo_beneficiario = df['SEXO_BENEFICIARIO'].value_counts()\n",
    "raca_beneficiario = df['RACA_BENEFICIARIO'].value_counts()"
   ]
  },
  {
   "cell_type": "code",
   "execution_count": 50,
   "metadata": {},
   "outputs": [],
   "source": [
    "# Criar o PDF\n",
    "pdf = FPDF()\n",
    "pdf.set_auto_page_break(auto=True, margin=15)"
   ]
  },
  {
   "cell_type": "code",
   "execution_count": 51,
   "metadata": {},
   "outputs": [],
   "source": [
    "# Adiciona a capa do relatório\n",
    "pdf.add_page()\n",
    "pdf.set_font('Arial', 'B', 16)\n",
    "pdf.cell(200, 10, txt=\"Relatório de Análise Prouni 2022\", ln=True, align='C')\n",
    "pdf.set_font('Arial', '', 12)\n",
    "pdf.cell(200, 10, txt=\"Por Igor Vinicios Angelo, Turma L - Kick\", ln=True, align='C')\n",
    "\n",
    "#Imagem para capa\n",
    "pdf.image('imagemcapa.jpg', x=10, y=50, w=190)\n",
    "pdf.ln(70)"
   ]
  },
  {
   "cell_type": "code",
   "execution_count": 52,
   "metadata": {},
   "outputs": [],
   "source": [
    "# Função para adicionar um gráfico e sua descrição ao PDF\n",
    "def add_chart_with_description(pdf, plot_func, description, *plot_args):\n",
    "    # Adiciona uma nova página para cada gráfico\n",
    "    pdf.add_page()\n",
    "    # Gera o gráfico\n",
    "    plt.figure()\n",
    "    plot_func(*plot_args)\n",
    "    filename = f'temp_chart_{plot_args[1].replace(\" \", \"_\")}.png'  # Gera um nome único para o arquivo\n",
    "    save_plot_to_file(filename)\n",
    "    # Adiciona a imagem do gráfico no PDF\n",
    "    add_image_to_pdf(pdf, filename)\n",
    "    # Adiciona a descrição do gráfico\n",
    "    pdf.multi_cell(0, 10, txt=description)\n",
    "    pdf.ln(2)  # Espaçamento entre o texto e o gráfico"
   ]
  },
  {
   "cell_type": "code",
   "execution_count": 53,
   "metadata": {},
   "outputs": [],
   "source": [
    "# 1. Gráfico de Pizza: Distribuição dos Tipos de Bolsa\n",
    "add_chart_with_description(\n",
    "    pdf,\n",
    "    plot_pie_chart,\n",
    "    \"Este gráfico é essencial para entender a proporção de bolsas parciais e integrais. As bolsas parciais representam uma fonte de receita para as universidades, enquanto as bolsas integrais possibilitam que alunos realizem o sonho de cursar uma faculdade sem custos.\",\n",
    "    tipo_bolsa,\n",
    "    'Distribuição dos Tipos de Bolsa'\n",
    ")"
   ]
  },
  {
   "cell_type": "code",
   "execution_count": 54,
   "metadata": {},
   "outputs": [],
   "source": [
    "# 2. Gráfico de Barras: Top 5 Municípios\n",
    "add_chart_with_description(\n",
    "    pdf,\n",
    "    plot_bar_chart,\n",
    "    \"A análise dos municípios que mais receberam bolsas permite identificar as regiões com maior número de beneficiados. Isso pode ajudar na alocação de recursos para determinadas áreas.\",\n",
    "    top_10_municipios.head(5),\n",
    "    'Municípios',\n",
    "    'Top 5 Municípios'\n",
    ")"
   ]
  },
  {
   "cell_type": "code",
   "execution_count": 55,
   "metadata": {},
   "outputs": [],
   "source": [
    "# 3. Gráfico de Barras: Top 5 Cursos\n",
    "add_chart_with_description(\n",
    "    pdf,\n",
    "    plot_bar_chart,\n",
    "    \"Este gráfico destaca os cursos mais procurados pelos beneficiários do Prouni. Ele fornece insights sobre as áreas de estudo mais populares, ajudando a direcionar políticas educacionais.\",\n",
    "    top_10_cursos.head(5),\n",
    "    'Cursos',\n",
    "    'Top 5 Cursos'\n",
    ")"
   ]
  },
  {
   "cell_type": "code",
   "execution_count": 56,
   "metadata": {},
   "outputs": [],
   "source": [
    "# 4. Gráfico de Pizza: Distribuição por Sexo dos Beneficiários\n",
    "add_chart_with_description(\n",
    "    pdf,\n",
    "    plot_pie_chart,\n",
    "    \"A distribuição de bolsas por sexo ajuda a analisar a equidade de gênero no acesso ao ensino superior. Este gráfico mostra se há uma distribuição equilibrada entre homens e mulheres.\",\n",
    "    sexo_beneficiario,\n",
    "    'Distribuição por Sexo dos Beneficiários'\n",
    ")"
   ]
  },
  {
   "cell_type": "code",
   "execution_count": 57,
   "metadata": {},
   "outputs": [],
   "source": [
    "# 5. Gráfico de Barras: Distribuição por Raça dos Beneficiários\n",
    "add_chart_with_description(\n",
    "    pdf,\n",
    "    plot_bar_chart,\n",
    "    \"A análise da distribuição por raça dos beneficiários é crucial para entender a inclusão de diferentes grupos raciais no programa, permitindo uma avaliação da diversidade entre os contemplados.\",\n",
    "    raca_beneficiario.head(5),\n",
    "    'Raça',\n",
    "    'Distribuição dos 5 Principais Raça dos Beneficiários'\n",
    ")"
   ]
  },
  {
   "cell_type": "code",
   "execution_count": 58,
   "metadata": {},
   "outputs": [
    {
     "name": "stdout",
     "output_type": "stream",
     "text": [
      "Relatório gerado com sucesso!\n"
     ]
    }
   ],
   "source": [
    "# Salvar o PDF\n",
    "pdf.output('relatorio_prouni_2022.pdf')\n",
    "\n",
    "print(\"Relatório gerado com sucesso!\")"
   ]
  }
 ],
 "metadata": {
  "kernelspec": {
   "display_name": "Python 3",
   "language": "python",
   "name": "python3"
  },
  "language_info": {
   "codemirror_mode": {
    "name": "ipython",
    "version": 3
   },
   "file_extension": ".py",
   "mimetype": "text/x-python",
   "name": "python",
   "nbconvert_exporter": "python",
   "pygments_lexer": "ipython3",
   "version": "3.12.5"
  }
 },
 "nbformat": 4,
 "nbformat_minor": 2
}
